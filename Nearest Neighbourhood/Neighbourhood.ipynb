{
 "cells": [
  {
   "cell_type": "code",
   "execution_count": 1,
   "metadata": {},
   "outputs": [],
   "source": [
    "import numpy as np\n",
    "import cv2\n",
    "from numpy import matrix as M\n",
    "import matplotlib.pyplot as plt\n",
    "import os"
   ]
  },
  {
   "cell_type": "code",
   "execution_count": 2,
   "metadata": {},
   "outputs": [],
   "source": [
    "def bin2dec(arr1):\n",
    "    x = arr1.shape[0]\n",
    "    decimal = 0\n",
    "    for i in range(x):\n",
    "        decimal = decimal + (2**i)*(arr1[6-i])\n",
    "    return decimal"
   ]
  },
  {
   "cell_type": "code",
   "execution_count": 3,
   "metadata": {},
   "outputs": [
    {
     "name": "stdout",
     "output_type": "stream",
     "text": [
      "[[  0.   0.   0. ...   0.   0.   0.]\n",
      " [  0.  15.  16. ...  24.  24.   0.]\n",
      " [  0.  16.  16. ...  24.  23.   0.]\n",
      " ...\n",
      " [  0.  96.  90. ... 118. 127.   0.]\n",
      " [  0. 118. 111. ... 121. 124.   0.]\n",
      " [  0.   0.   0. ...   0.   0.   0.]]\n"
     ]
    }
   ],
   "source": [
    "path = 'C:/Users/Aditya/Pictures/'\n",
    "image_path = 'images.jpg'\n",
    "original_image = cv2.imread(os.path.join(path , image_path))\n",
    "gray_image = cv2.cvtColor(original_image, cv2.COLOR_BGR2GRAY)\n",
    "cv2.imshow('grayscale image', gray_image)\n",
    "new_image = np.zeros([gray_image.shape[0], gray_image.shape[1]], dtype = np.uint8)\n",
    "y = np.zeros([gray_image.shape[0]+2, gray_image.shape[1]+2])\n",
    "for i in range(1, gray_image.shape[0]+1):\n",
    "    for j in range(1, gray_image.shape[1]+1):\n",
    "        y[i, j] = gray_image[i-1, j-1]\n",
    "print(y)\n",
    "\n",
    "cv2.waitKey(0)\n",
    "cv2.destroyAllWindows()"
   ]
  },
  {
   "cell_type": "code",
   "execution_count": 4,
   "metadata": {},
   "outputs": [],
   "source": [
    "list_3 = []\n",
    "list_2 = []\n",
    "for i in range(1, gray_image.shape[0]+1):\n",
    "    for j in range(1, gray_image.shape[1]+1):\n",
    "        list_2.append(1*(y[i, j] > y[i-1:i+2, j-1:j+2]))"
   ]
  },
  {
   "cell_type": "code",
   "execution_count": 5,
   "metadata": {},
   "outputs": [],
   "source": [
    "for idx in list_2:\n",
    "    new_pixel = np.zeros([9])\n",
    "    #print(idx)\n",
    "    for i in range(3):\n",
    "        for j in range(3):\n",
    "            new_pixel[3*i+j] = idx[i, j]\n",
    "    #print(new_pixel)\n",
    "    new_pixel = np.delete(new_pixel, 4)\n",
    "    decimal = bin2dec(new_pixel)\n",
    "    #print(type(decimal))\n",
    "    list_3.append(decimal)"
   ]
  },
  {
   "cell_type": "code",
   "execution_count": 11,
   "metadata": {},
   "outputs": [
    {
     "name": "stdout",
     "output_type": "stream",
     "text": [
      "[[122. 120. 112. ... 244. 240. 245.]\n",
      " [106.  64. 104. ... 151. 135. 151.]\n",
      " [122.  96.  64. ... 135. 131. 151.]\n",
      " ...\n",
      " [ 94.   4.   0. ...  18.  48. 254.]\n",
      " [126. 116. 112. ...  10. 106. 255.]\n",
      " [255. 247. 247. ... 235. 235. 223.]]\n"
     ]
    }
   ],
   "source": [
    "new_image = np.array(list_3).reshape(gray_image.shape[0], gray_image.shape[1])\n",
    "print(new_image)\n",
    "new_image1 = np.array(new_image, dtype = np.uint8)\n",
    "cv2.imshow('new image', new_image)\n",
    "backtorgb = cv2.cvtColor(new_image1,cv2.COLOR_GRAY2RGB)\n",
    "cv2.imshow('color image', backtorgb)\n",
    "cv2.imwrite(r'C:\\Users\\Aditya\\Pictures\\new_image1.png', new_image1)\n",
    "cv2.imshow('grayscale image', gray_image)\n",
    "cv2.waitKey(0)\n",
    "cv2.destroyAllWindows()"
   ]
  },
  {
   "cell_type": "code",
   "execution_count": 10,
   "metadata": {},
   "outputs": [
    {
     "data": {
      "text/plain": [
       "<matplotlib.image.AxesImage at 0x1f4fec70978>"
      ]
     },
     "execution_count": 10,
     "metadata": {},
     "output_type": "execute_result"
    },
    {
     "data": {
      "image/png": "[encoded data removed]",
      "text/plain": [
       "<Figure size 432x288 with 3 Axes>"
      ]
     },
     "metadata": {
      "needs_background": "light"
     },
     "output_type": "display_data"
    }
   ],
   "source": [
    "fig = plt.figure()\n",
    "plt.subplot(411)\n",
    "plt.imshow(gray_image)\n",
    "plt.subplot(412)\n",
    "plt.imshow(new_image)\n",
    "plt.subplot(413)\n",
    "plt.imshow(new_image1)"
   ]
  },
  {
   "cell_type": "code",
   "execution_count": null,
   "metadata": {},
   "outputs": [],
   "source": []
  }
 ],
 "metadata": {
  "kernelspec": {
   "display_name": "Python 3",
   "language": "python",
   "name": "python3"
  },
  "language_info": {
   "codemirror_mode": {
    "name": "ipython",
    "version": 3
   },
   "file_extension": ".py",
   "mimetype": "text/x-python",
   "name": "python",
   "nbconvert_exporter": "python",
   "pygments_lexer": "ipython3",
   "version": "3.6.8"
  }
 },
 "nbformat": 4,
 "nbformat_minor": 2
}

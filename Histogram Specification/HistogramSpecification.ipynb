{
 "cells": [
  {
   "cell_type": "code",
   "execution_count": 55,
   "metadata": {},
   "outputs": [],
   "source": [
    "import numpy as np\n",
    "image = np.array([[1, 3, 5],[4, 4, 3],[5, 2, 2]])"
   ]
  },
  {
   "cell_type": "code",
   "execution_count": 56,
   "metadata": {},
   "outputs": [],
   "source": [
    "list_1 = [0, 1, 2, 3, 4, 5, 6, 7]\n",
    "def Count(count_list):\n",
    "    count = dict()\n",
    "    for item in list_1:\n",
    "        count[item] = count_list.count(item)\n",
    "    return count\n",
    "\n",
    "def CDF(dict_1):\n",
    "    sum1 = 0\n",
    "    cdf = dict()\n",
    "    for i, j in dict_1.items():\n",
    "        sum1 = sum1 + dict_1[i]\n",
    "        cdf[i] = sum1\n",
    "    return cdf"
   ]
  },
  {
   "cell_type": "code",
   "execution_count": 57,
   "metadata": {},
   "outputs": [
    {
     "name": "stdout",
     "output_type": "stream",
     "text": [
      "[0, 0, 0, 0, 2, 2, 4, 1]\n"
     ]
    }
   ],
   "source": [
    "list_2 = [[1, 3, 5],[4, 4, 3],[5, 2, 2]]\n",
    "list_3 = [1, 3, 5, 4, 4, 3, 5, 2, 2]\n",
    "list_3.sort()\n",
    "target = [0, 0, 0, 0, 2, 2, 4, 1]\n",
    "print(target)"
   ]
  },
  {
   "cell_type": "code",
   "execution_count": 58,
   "metadata": {},
   "outputs": [
    {
     "name": "stdout",
     "output_type": "stream",
     "text": [
      "{0: 0, 1: 1, 2: 2, 3: 2, 4: 2, 5: 2, 6: 0, 7: 0}\n"
     ]
    }
   ],
   "source": [
    "given = Count(list_3)\n",
    "print(given)"
   ]
  },
  {
   "cell_type": "code",
   "execution_count": 59,
   "metadata": {},
   "outputs": [
    {
     "name": "stdout",
     "output_type": "stream",
     "text": [
      "{0: 0, 1: 1, 2: 3, 3: 5, 4: 7, 5: 9, 6: 9, 7: 9}\n",
      "{0: 0, 1: 0, 2: 0, 3: 0, 4: 2, 5: 4, 6: 8, 7: 9}\n"
     ]
    }
   ],
   "source": [
    "target_dict = dict()\n",
    "for item in list_1:\n",
    "    target_dict[item] = target[item]\n",
    "\n",
    "target_cdf = CDF(target_dict)\n",
    "given_cdf = CDF(given)\n",
    "print(given_cdf)\n",
    "print(target_cdf)"
   ]
  },
  {
   "cell_type": "code",
   "execution_count": 60,
   "metadata": {},
   "outputs": [
    {
     "name": "stdout",
     "output_type": "stream",
     "text": [
      "[0, 0, 0, 0, 2, 4, 8, 9] [0, 1, 3, 5, 7, 9, 9, 9]\n"
     ]
    }
   ],
   "source": [
    "target = []\n",
    "given = []\n",
    "for x, y in given_cdf.items():\n",
    "    given.append(y)\n",
    "for x,y in target_cdf.items():\n",
    "    target.append(y)\n",
    "    \n",
    "print(target, given)"
   ]
  },
  {
   "cell_type": "code",
   "execution_count": 61,
   "metadata": {},
   "outputs": [
    {
     "name": "stdout",
     "output_type": "stream",
     "text": [
      "[0, 4, 5, 6, 6, 7, 7, 7]\n"
     ]
    }
   ],
   "source": [
    "j = 0\n",
    "new_pixels = []\n",
    "for i in given:\n",
    "    while j<8:\n",
    "        if target[j] >= i:\n",
    "            new_pixels.append(j)\n",
    "            break\n",
    "        j = j+1\n",
    "print(new_pixels)"
   ]
  }
 ],
 "metadata": {
  "kernelspec": {
   "display_name": "Python 3",
   "language": "python",
   "name": "python3"
  },
  "language_info": {
   "codemirror_mode": {
    "name": "ipython",
    "version": 3
   },
   "file_extension": ".py",
   "mimetype": "text/x-python",
   "name": "python",
   "nbconvert_exporter": "python",
   "pygments_lexer": "ipython3",
   "version": "3.6.8"
  }
 },
 "nbformat": 4,
 "nbformat_minor": 2
}

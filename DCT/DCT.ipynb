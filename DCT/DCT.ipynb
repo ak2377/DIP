{
 "cells": [
  {
   "cell_type": "code",
   "execution_count": 5,
   "metadata": {},
   "outputs": [
    {
     "name": "stdout",
     "output_type": "stream",
     "text": [
      "\n",
      "Output Matrix :\n",
      " [[ 1.10431526e-01  1.41421356e-01  1.47441956e-01  1.20385853e-01\n",
      "   1.76776695e-01]\n",
      " [ 6.32455532e-01  3.71748034e-01 -1.95439508e-01 -6.01500955e-01\n",
      "  -5.11667274e-01]\n",
      " [ 6.32455532e-01  3.87267321e-17 -6.32455532e-01 -1.16180196e-16\n",
      "   6.32455532e-01]\n",
      " [ 6.32455532e-01 -3.71748034e-01 -1.95439508e-01  6.01500955e-01\n",
      "  -5.11667274e-01]\n",
      " [ 6.32455532e-01 -6.01500955e-01  5.11667274e-01 -3.71748034e-01\n",
      "   1.95439508e-01]]\n"
     ]
    }
   ],
   "source": [
    "import numpy as np\n",
    "import math \n",
    "\n",
    "# Defining a function to compute Discrete Cosine Transform (DCT) of a Matrix\n",
    "def dct(input_matrix):\n",
    "    \n",
    "    # Length of Input Matrix\n",
    "    n = len(input_matrix)\n",
    "\n",
    "    # Output Matrix\n",
    "    output_matrix = np.zeros([n,n])\n",
    "    \n",
    "    # Applying DCT algorithm\n",
    "    for i in range(n):\n",
    "        for j in range(n):\n",
    "            if(i==0):\n",
    "                output_matrix[i][j]=np.power(1/input_matrix[i][j],0.5)\n",
    "            else:\n",
    "                output_matrix[i][j]=np.power(2/n,0.5)*np.cos(((2*i+1)*math.pi*j)/(2*n))\n",
    "                \n",
    "    # Printing Output Matrix\n",
    "    print('\\nOutput Matrix :\\n',output_matrix)\n",
    "    \n",
    "    \n",
    "    \n",
    "input_matrix = np.uint8(np.random.rand(5,5)*100)\n",
    "dct(input_matrix)"
   ]
  },
  {
   "cell_type": "code",
   "execution_count": null,
   "metadata": {},
   "outputs": [],
   "source": []
  }
 ],
 "metadata": {
  "kernelspec": {
   "display_name": "Python 3",
   "language": "python",
   "name": "python3"
  },
  "language_info": {
   "codemirror_mode": {
    "name": "ipython",
    "version": 3
   },
   "file_extension": ".py",
   "mimetype": "text/x-python",
   "name": "python",
   "nbconvert_exporter": "python",
   "pygments_lexer": "ipython3",
   "version": "3.6.10"
  }
 },
 "nbformat": 4,
 "nbformat_minor": 2
}

{
 "cells": [
  {
   "cell_type": "markdown",
   "metadata": {},
   "source": [
    "Author - Aditya Kotasthane\n",
    "IIIT Nagpur"
   ]
  },
  {
   "cell_type": "code",
   "execution_count": 3,
   "metadata": {},
   "outputs": [],
   "source": [
    "def bin2dec(arr1):\n",
    "    x = arr1.shape[0]\n",
    "    decimal = 0\n",
    "    for i in range(x):\n",
    "        decimal = decimal + (2**i)*(arr1[6-i])\n",
    "    return decimal\n",
    "\n",
    "def dec2bin(pixel):\n",
    "    bin_value = []\n",
    "    if (pixel>1) :\n",
    "        bin_value = dec2bin(pixel//2)\n",
    "    bin_value.append(pixel%2)\n",
    "    return bin_value"
   ]
  },
  {
   "cell_type": "code",
   "execution_count": 4,
   "metadata": {},
   "outputs": [],
   "source": [
    "import cv2\n",
    "import os\n",
    "import numpy as np\n",
    "import matplotlib.pyplot as plt\n",
    "\n",
    "path = 'C:/Users/Aditya/Pictures/'\n",
    "image_path = 'Lenna_(test_image).png'\n",
    "original_image = cv2.imread(os.path.join(path , image_path))\n",
    "gray_image = cv2.cvtColor(original_image, cv2.COLOR_BGR2GRAY)\n",
    "cv2.imshow('grayscale image', gray_image)\n",
    "X, Y = gray_image.shape[0], gray_image.shape[1]\n",
    "gray_image1 = np.zeros([X, Y], dtype = np.uint8)\n",
    "\n",
    "one_image = np.zeros([X, Y])\n",
    "two_image = np.zeros([X, Y])\n",
    "three_image = np.zeros([X, Y])\n",
    "four_image = np.zeros([X, Y])\n",
    "five_image = np.zeros([X, Y])\n",
    "six_image = np.zeros([X, Y])\n",
    "seven_image = np.zeros([X, Y])\n",
    "eigth_image = np.zeros([X, Y])\n",
    "\n",
    "bit_images = [one_image, two_image, three_image, four_image, five_image, six_image, seven_image, eigth_image]\n",
    "name_saved = ['first', 'second', 'third', 'fourth', 'fifth', 'sixth', 'seventh', 'eigth']\n",
    "arr = np.zeros([8])\n",
    "for x in range(X):\n",
    "    for y in range(Y):\n",
    "        result = dec2bin(gray_image[x,y])\n",
    "        arr = np.zeros([8])\n",
    "        for i in range(len(result)):\n",
    "            arr[7-i] = result[len(result)-1-i]\n",
    "        for m, n in zip(bit_images, range(8)):\n",
    "            m[x, y] = arr[n]\n",
    "        arr1 = arr[:7]\n",
    "        new_pixel = bin2dec(arr1)\n",
    "        gray_image1[x, y] = new_pixel\n",
    "                        \n",
    "cv2.imshow('first image', one_image)\n",
    "cv2.imshow('two image', two_image)\n",
    "cv2.imshow('third image', three_image)\n",
    "cv2.imshow('fourth image', four_image)\n",
    "cv2.imshow('fifth image', five_image)\n",
    "cv2.imshow('sixth image', six_image)\n",
    "cv2.imshow('seventh image', seven_image)\n",
    "cv2.imshow('eigth image', eigth_image)\n",
    "\n",
    "cv2.waitKey(0)\n",
    "cv2.destroyAllWindows()"
   ]
  },
  {
   "cell_type": "code",
   "execution_count": null,
   "metadata": {},
   "outputs": [],
   "source": [
    "fig = plt.figure()\n",
    "plt.subplot(421)\n",
    "plt.imshow(one_image)\n",
    "plt.subplot(422)\n",
    "plt.imshow(two_image)\n",
    "plt.subplot(423)\n",
    "plt.imshow(three_image)\n",
    "plt.subplot(424)\n",
    "plt.imshow(four_image)\n",
    "plt.subplot(425)\n",
    "plt.imshow(five_image)\n",
    "plt.subplot(426)\n",
    "plt.imshow(six_image)\n",
    "plt.subplot(427)\n",
    "plt.imshow(seven_image)\n",
    "plt.subplot(428)\n",
    "plt.imshow(eigth_image)"
   ]
  },
  {
   "cell_type": "code",
   "execution_count": null,
   "metadata": {},
   "outputs": [],
   "source": [
    "plt.subplot(211)\n",
    "plt.imshow(gray_image1)\n",
    "plt.subplot(212)\n",
    "plt.imshow(gray_image)"
   ]
  },
  {
   "cell_type": "code",
   "execution_count": 16,
   "metadata": {},
   "outputs": [],
   "source": [
    "original_image1 = cv2.imread(r'C:\\Users\\Aditya\\Pictures\\images.jpg')\n",
    "gray_image1 = cv2.cvtColor(original_image1, cv2.COLOR_BGR2GRAY)\n",
    "cv2.imshow('grayscale image', gray_image1)\n",
    "dim = (X, Y)\n",
    "resized = cv2.resize(gray_image1, dim, interpolation = cv2.INTER_AREA)\n",
    "cv2.imshow('resized', resized)\n",
    "bit_image = np.zeros([X, Y])\n",
    "\n",
    "threshold = 130\n",
    "for i in range(X):\n",
    "    for j in range(Y):\n",
    "        if resized[i, j] > threshold:\n",
    "            bit_image[i, j] = 1\n",
    "        else:\n",
    "            bit_image[i, j] = 0\n",
    "            \n",
    "            \n",
    "cv2.imshow('bit image', bit_image)\n",
    "cv2.waitKey(0)\n",
    "cv2.destroyAllWindows()"
   ]
  },
  {
   "cell_type": "code",
   "execution_count": 10,
   "metadata": {},
   "outputs": [
    {
     "data": {
      "text/plain": [
       "(512, 512)"
      ]
     },
     "execution_count": 10,
     "metadata": {},
     "output_type": "execute_result"
    }
   ],
   "source": [
    "gray_image.shape"
   ]
  },
  {
   "cell_type": "code",
   "execution_count": 6,
   "metadata": {},
   "outputs": [],
   "source": [
    "import cv2\n",
    "import os\n",
    "import numpy as np\n",
    "import matplotlib.pyplot as plt\n",
    "\n",
    "path = 'C:/Users/Aditya/Pictures/'\n",
    "image_path = 'Lenna_(test_image).png'\n",
    "original_image = cv2.imread(os.path.join(path , image_path))\n",
    "gray_image = cv2.cvtColor(original_image, cv2.COLOR_BGR2GRAY)\n",
    "X, Y = gray_image.shape[0], gray_image.shape[1]\n",
    "watermarked_image = np.zeros([X, Y], dtype = np.uint8)\n",
    "\n",
    "path = 'C:/Users/Aditya/Pictures/'\n",
    "image_path = 'images.jpg'\n",
    "original_image1 = cv2.imread(os.path.join(path , image_path))\n",
    "gray_image1 = cv2.cvtColor(original_image1, cv2.COLOR_BGR2GRAY)\n",
    "dim = (X, Y)\n",
    "resized = cv2.resize(gray_image1, dim, interpolation = cv2.INTER_AREA)\n",
    "\n",
    "threshold = 180\n",
    "\n",
    "for x in range(X):\n",
    "    for y in range(Y):\n",
    "        result = dec2bin(gray_image[x,y])\n",
    "        arr = np.zeros([8])\n",
    "        for i in range(len(result)):\n",
    "            arr[7-i] = result[len(result)-1-i]\n",
    "        if resized[x, y] > threshold:\n",
    "            arr[7] = 1\n",
    "        else:\n",
    "            arr[7] = 0\n",
    "        watermarked_image[x, y] = bin2dec(arr)\n",
    "        \n",
    "\n",
    "cv2.imshow('lenna', gray_image)\n",
    "cv2.imshow('BMW csi e9', gray_image1)\n",
    "cv2.imshow('watermarked image', watermarked_image)\n",
    "cv2.waitKey(0)\n",
    "cv2.destroyAllWindows()"
   ]
  },
  {
   "cell_type": "code",
   "execution_count": 14,
   "metadata": {},
   "outputs": [
    {
     "data": {
      "text/plain": [
       "8"
      ]
     },
     "execution_count": 14,
     "metadata": {},
     "output_type": "execute_result"
    }
   ],
   "source": [
    "len(result)"
   ]
  },
  {
   "cell_type": "code",
   "execution_count": null,
   "metadata": {},
   "outputs": [],
   "source": []
  },
  {
   "cell_type": "code",
   "execution_count": null,
   "metadata": {},
   "outputs": [],
   "source": []
  },
  {
   "cell_type": "code",
   "execution_count": null,
   "metadata": {},
   "outputs": [],
   "source": []
  },
  {
   "cell_type": "code",
   "execution_count": null,
   "metadata": {},
   "outputs": [],
   "source": []
  },
  {
   "cell_type": "code",
   "execution_count": null,
   "metadata": {},
   "outputs": [],
   "source": []
  },
  {
   "cell_type": "code",
   "execution_count": null,
   "metadata": {},
   "outputs": [],
   "source": []
  },
  {
   "cell_type": "code",
   "execution_count": null,
   "metadata": {},
   "outputs": [],
   "source": []
  }
 ],
 "metadata": {
  "kernelspec": {
   "display_name": "Python 3",
   "language": "python",
   "name": "python3"
  },
  "language_info": {
   "codemirror_mode": {
    "name": "ipython",
    "version": 3
   },
   "file_extension": ".py",
   "mimetype": "text/x-python",
   "name": "python",
   "nbconvert_exporter": "python",
   "pygments_lexer": "ipython3",
   "version": "3.6.10"
  }
 },
 "nbformat": 4,
 "nbformat_minor": 2
}

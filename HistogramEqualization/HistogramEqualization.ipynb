{
 "cells": [
  {
   "cell_type": "code",
   "execution_count": 32,
   "metadata": {},
   "outputs": [],
   "source": [
    "from PIL import Image\n",
    "import numpy as np\n",
    "import collections\n",
    "import cv2\n",
    "import matplotlib.pyplot as plt\n",
    "\n",
    "# function to count the pixel values\n",
    "def Count(count_list):\n",
    "    count = dict()\n",
    "    for item in count_list:\n",
    "        if item in count:\n",
    "           count[item] = count[item] + 1\n",
    "        else :\n",
    "            count[item] = 1\n",
    "    return count\n",
    "\n",
    "#function to calculate CDF function\n",
    "def CDF(dict_1):\n",
    "    sum1 = 0\n",
    "    cdf = dict()\n",
    "    for i, j in count.items():\n",
    "        sum1 = sum1 + count[i]\n",
    "        cdf[i] = sum1\n",
    "    return cdf\n",
    "\n",
    "#function to calculate histogram from CDF function\n",
    "def calculate_histogram(dict_1):\n",
    "    cdf_m = min(dict_1.values())\n",
    "    L = 255\n",
    "    hist = dict()\n",
    "    for i, j in cdf.items():\n",
    "        hist[i] = int(((dict_1[i] - cdf_m)/(699392 - cdf_m))*(L-1))\n",
    "        \n",
    "    return hist\n",
    "\n",
    "\n",
    "original_image = cv2.imread(r'C:\\Users\\Aditya\\Pictures\\Unequalized_Hawkes_Bay_NZ.jpg')\n",
    "grayscale_image = cv2.cvtColor(original_image, cv2.COLOR_BGR2GRAY)\n",
    "cv2.imshow('grayscale image', grayscale_image)\n",
    "cv2.imwrite(r'C:\\Users\\Aditya\\Pictures\\grayscale_image.jpg', grayscale_image)\n",
    "image_shape = grayscale_image.shape\n",
    "\n",
    "list_1 = []\n",
    "list_2 = []\n",
    "for i in range(image_shape[0]):\n",
    "    for j in range(image_shape[1]):\n",
    "        list_1.append(grayscale_image[i][j])\n",
    "        list_2.append(grayscale_image[i][j])\n",
    "        \n",
    "list_1.sort()\n",
    "\n",
    "count = Count(list_1)\n",
    "cdf = CDF(count)\n",
    "hist = calculate_histogram(cdf)\n",
    "\n",
    "list_3 = []\n",
    "for x in list_2:\n",
    "    list_3.append(hist[x])\n",
    "\n",
    "arr2img = np.array(list_3, dtype = np.uint8)\n",
    "arr2img = arr2img.reshape(image_shape[0], image_shape[1])\n",
    "hist_equ_image = cv2.imshow('hist_equ_image', arr2img)\n",
    "cv2.imwrite(r'C:\\Users\\Aditya\\Pictures\\hist_equ_image.jpg', arr2img )\n",
    "cv2.waitKey(0)\n",
    "cv2.destroyAllWindows()"
   ]
  },
  {
   "cell_type": "code",
   "execution_count": 30,
   "metadata": {},
   "outputs": [
    {
     "data": {
      "text/plain": [
       "<StemContainer object of 3 artists>"
      ]
     },
     "execution_count": 30,
     "metadata": {},
     "output_type": "execute_result"
    },
    {
     "data": {
      "image/png": "[encoded data removed]",
      "text/plain": [
       "<Figure size 432x288 with 1 Axes>"
      ]
     },
     "metadata": {
      "needs_background": "light"
     },
     "output_type": "display_data"
    }
   ],
   "source": [
    "import matplotlib.pyplot as plt\n",
    "\n",
    "plt.subplot(211)\n",
    "plt.stem(count.keys(), count.values())"
   ]
  }
 ],
 "metadata": {
  "kernelspec": {
   "display_name": "Python 3",
   "language": "python",
   "name": "python3"
  },
  "language_info": {
   "codemirror_mode": {
    "name": "ipython",
    "version": 3
   },
   "file_extension": ".py",
   "mimetype": "text/x-python",
   "name": "python",
   "nbconvert_exporter": "python",
   "pygments_lexer": "ipython3",
   "version": "3.6.8"
  }
 },
 "nbformat": 4,
 "nbformat_minor": 2
}

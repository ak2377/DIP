{
 "cells": [
  {
   "cell_type": "code",
   "execution_count": 14,
   "metadata": {},
   "outputs": [],
   "source": [
    "###########################################################################################################################\n",
    "#                                                                                                                         #\n",
    "#                                                Author : Aditya Kotasthane                                               #\n",
    "#                                                                                                                         #\n",
    "###########################################################################################################################\n",
    "\n",
    "\n",
    "import numpy as np\n",
    "import os\n",
    "\n",
    "def Toboggan(input_matrix):\n",
    "    gradient_matrix = np.array([[12, 14, 23, 13], [16, 11, 21, 18],  ## defining gradient matrix \n",
    "                       [21, 24, 23, 12], [12, 21, 20, 10]])          ## of shape (4, 4)\n",
    "    \n",
    "    print(gradient_matrix)\n",
    "    print(input_matrix)\n",
    "    \n",
    "    shape = (input_matrix.shape[0]+2, input_matrix.shape[1]+2)\n",
    "    gradient_matrix_padded = 255*np.ones(shape)\n",
    "    output_matrix = np.zeros((input_matrix.shape[0], input_matrix.shape[1])) ## defining output matrix of size same as input\n",
    "    input_matrix_padded = np.zeros(shape)  \n",
    "\n",
    "    for i in range(0, input_matrix.shape[0]):                          ## padding 255 to toboggan matrix \n",
    "        for j in range(0, input_matrix.shape[1]):                      ## and padding zeros to input matrix\n",
    "            gradient_matrix_padded[i+1, j+1] = gradient_matrix[i, j]\n",
    "            input_matrix_padded[i+1, j+1] = input_matrix[i, j]\n",
    "\n",
    "    print(gradient_matrix_padded)\n",
    "    print(input_matrix_padded)\n",
    "    \n",
    "    for i in range(1, input_matrix.shape[0]+1):\n",
    "        for j in range(1, input_matrix.shape[1]+1): \n",
    "            slice_matrix = input_matrix_padded[i-1:i+2, j-1:j+2]\n",
    "            output_matrix[i-1, j-1] = slice_matrix[np.where(gradient_matrix_padded[i-1:i+2, j-1:j+2] == np.amin(gradient_matrix_padded[i-1:i+2, j-1:j+2]))]\n",
    "      ## finding indices of smallest pixel among the neighbouring pixels\n",
    "      ## and assigning the value of the input matrix pixel at that indices\n",
    "      ## to the output matrix\n",
    "    \n",
    "    return output_matrix"
   ]
  },
  {
   "cell_type": "code",
   "execution_count": 15,
   "metadata": {},
   "outputs": [
    {
     "name": "stdout",
     "output_type": "stream",
     "text": [
      "[[12 14 23 13]\n",
      " [16 11 21 18]\n",
      " [21 24 23 12]\n",
      " [12 21 20 10]]\n",
      "[[4 4 3 2]\n",
      " [3 7 6 1]\n",
      " [2 7 6 2]\n",
      " [0 1 0 2]]\n",
      "[[255. 255. 255. 255. 255. 255.]\n",
      " [255.  12.  14.  23.  13. 255.]\n",
      " [255.  16.  11.  21.  18. 255.]\n",
      " [255.  21.  24.  23.  12. 255.]\n",
      " [255.  12.  21.  20.  10. 255.]\n",
      " [255. 255. 255. 255. 255. 255.]]\n",
      "[[0. 0. 0. 0. 0. 0.]\n",
      " [0. 4. 4. 3. 2. 0.]\n",
      " [0. 3. 7. 6. 1. 0.]\n",
      " [0. 2. 7. 6. 2. 0.]\n",
      " [0. 0. 1. 0. 2. 0.]\n",
      " [0. 0. 0. 0. 0. 0.]]\n",
      "[[7. 7. 7. 2.]\n",
      " [7. 7. 7. 2.]\n",
      " [7. 7. 2. 2.]\n",
      " [0. 0. 2. 2.]]\n"
     ]
    }
   ],
   "source": [
    "input_matrix = np.array([[4, 4, 3, 2], [3, 7, 6, 1],\n",
    "                        [2, 7, 6, 2], [0, 1, 0, 2]])\n",
    "\n",
    "x = Toboggan(input_matrix)\n",
    "print(x)"
   ]
  },
  {
   "cell_type": "code",
   "execution_count": null,
   "metadata": {},
   "outputs": [],
   "source": []
  }
 ],
 "metadata": {
  "kernelspec": {
   "display_name": "Python 3",
   "language": "python",
   "name": "python3"
  },
  "language_info": {
   "codemirror_mode": {
    "name": "ipython",
    "version": 3
   },
   "file_extension": ".py",
   "mimetype": "text/x-python",
   "name": "python",
   "nbconvert_exporter": "python",
   "pygments_lexer": "ipython3",
   "version": "3.6.8"
  }
 },
 "nbformat": 4,
 "nbformat_minor": 2
}

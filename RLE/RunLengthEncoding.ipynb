{
 "cells": [
  {
   "cell_type": "code",
   "execution_count": 1,
   "metadata": {},
   "outputs": [],
   "source": [
    "import numpy as np\n",
    "\n",
    "\n",
    "def RLE(bits):\n",
    "    count = 1\n",
    "    list_of_counts = []\n",
    "    list_of_indices = []\n",
    "    rle_bits = \"\"\n",
    "    shape = (len(bits), 2)\n",
    "    counts = np.array(shape)\n",
    "    for i in range(len(bits)-1):\n",
    "\n",
    "        if bits[i] == bits[i+1]:\n",
    "            count = count + 1\n",
    "\n",
    "        else :\n",
    "            list_of_counts.append(count)\n",
    "            list_of_indices.append(bits[i])\n",
    "            count = 1 \n",
    "    list_of_counts.append(count)\n",
    "    list_of_indices.append(bits[i+1])\n",
    "    counts = np.zeros([len(list_of_counts), 2])\n",
    "    counts[:, 0] = list_of_indices\n",
    "    counts[:, 1] = list_of_counts\n",
    "    \n",
    "    for i, j in zip(list_of_indices, list_of_counts):\n",
    "        rle_bits = rle_bits + str(i) + str(bin(j)[2:])\n",
    "    \n",
    "    \n",
    "    return rle_bits, counts"
   ]
  },
  {
   "cell_type": "code",
   "execution_count": 2,
   "metadata": {},
   "outputs": [
    {
     "name": "stdout",
     "output_type": "stream",
     "text": [
      "0101100111101111\n",
      "[[0. 2.]\n",
      " [1. 2.]\n",
      " [0. 1.]\n",
      " [1. 3.]\n",
      " [0. 3.]\n",
      " [1. 1.]]\n"
     ]
    }
   ],
   "source": [
    "bits = \"001101110001\"\n",
    "x, y = RLE(bits)\n",
    "print(x)\n",
    "print(y)"
   ]
  },
  {
   "cell_type": "code",
   "execution_count": null,
   "metadata": {},
   "outputs": [],
   "source": []
  }
 ],
 "metadata": {
  "kernelspec": {
   "display_name": "Python 3",
   "language": "python",
   "name": "python3"
  },
  "language_info": {
   "codemirror_mode": {
    "name": "ipython",
    "version": 3
   },
   "file_extension": ".py",
   "mimetype": "text/x-python",
   "name": "python",
   "nbconvert_exporter": "python",
   "pygments_lexer": "ipython3",
   "version": "3.6.8"
  }
 },
 "nbformat": 4,
 "nbformat_minor": 2
}

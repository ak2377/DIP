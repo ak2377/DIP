{
 "cells": [
  {
   "cell_type": "code",
   "execution_count": null,
   "metadata": {},
   "outputs": [],
   "source": [
    "import os\n",
    "import numpy as np\n",
    "import cv2\n",
    "\n",
    "path = 'C:/Users/Aditya/Pictures/'\n",
    "image_path = 'Lenna_(test_image).png'\n",
    "#original_image = cv2.imread(r'C:\\Users\\Aditya\\Pictures\\Lenna_(test_image).png')\n",
    "original_image = cv2.imread(os.path.join(path , image_path))\n",
    "cv2.imshow(image_path, original_image)\n",
    "print(original_image.shape)\n",
    "X, Y, Z = original_image.shape[0], original_image.shape[1], original_image.shape[2]\n",
    "\n",
    "blue_image = np.zeros([X, Y, Z], dtype = np.uint8)\n",
    "green_image = np.zeros([X, Y, Z], dtype = np.uint8)\n",
    "red_image = np.zeros([X, Y, Z], dtype = np.uint8)\n",
    "\n",
    "seperate_images = [blue_image, green_image, red_image]\n",
    "for x, y in zip(seperate_images, range(Z)):\n",
    "    x[:, :, y] = original_image[:, :, y]\n",
    "    attach = str(y) + '.jpg'\n",
    "    cv2.imwrite(os.path.join(path , attach),x)\n",
    "    \n",
    "cv2.imshow('Blue Image', blue_image)\n",
    "cv2.imshow('Green Image', green_image)\n",
    "cv2.imshow('Red Image', red_image)\n",
    "\n",
    "cv2.waitKey(0)\n",
    "cv2.destroyAllWindows()"
   ]
  },
  {
   "cell_type": "code",
   "execution_count": null,
   "metadata": {},
   "outputs": [],
   "source": []
  }
 ],
 "metadata": {
  "kernelspec": {
   "display_name": "Python 3",
   "language": "python",
   "name": "python3"
  },
  "language_info": {
   "codemirror_mode": {
    "name": "ipython",
    "version": 3
   },
   "file_extension": ".py",
   "mimetype": "text/x-python",
   "name": "python",
   "nbconvert_exporter": "python",
   "pygments_lexer": "ipython3",
   "version": "3.6.8"
  }
 },
 "nbformat": 4,
 "nbformat_minor": 2
}

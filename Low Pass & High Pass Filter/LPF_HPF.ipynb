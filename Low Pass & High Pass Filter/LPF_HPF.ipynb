{
 "cells": [
  {
   "cell_type": "code",
   "execution_count": 1,
   "metadata": {},
   "outputs": [],
   "source": [
    "import numpy as np\n",
    "import cv2\n",
    "from numpy import matrix as M\n",
    "import matplotlib.pyplot as plt\n",
    "import os"
   ]
  },
  {
   "cell_type": "code",
   "execution_count": 24,
   "metadata": {},
   "outputs": [],
   "source": [
    "path = r'C:/Users/Aditya/Pictures/'\n",
    "image_path = 'Lenna_(test_image).png'\n",
    "original_image = cv2.imread(os.path.join(path , image_path))\n",
    "gray_image = cv2.cvtColor(original_image, cv2.COLOR_BGR2GRAY)\n",
    "cv2.imshow('original image', gray_image)\n",
    "cv2.waitKey(0)\n",
    "cv2.destroyAllWindows()"
   ]
  },
  {
   "cell_type": "code",
   "execution_count": 7,
   "metadata": {},
   "outputs": [
    {
     "data": {
      "text/plain": [
       "array([[162, 162, 162, ..., 170, 155, 128],\n",
       "       [162, 162, 162, ..., 170, 155, 128],\n",
       "       [162, 162, 162, ..., 170, 155, 128],\n",
       "       ...,\n",
       "       [ 43,  43,  50, ..., 104, 100,  98],\n",
       "       [ 44,  44,  55, ..., 104, 105, 108],\n",
       "       [ 44,  44,  55, ..., 104, 105, 108]], dtype=uint8)"
      ]
     },
     "execution_count": 7,
     "metadata": {},
     "output_type": "execute_result"
    }
   ],
   "source": [
    "gray_image"
   ]
  },
  {
   "cell_type": "code",
   "execution_count": 8,
   "metadata": {},
   "outputs": [],
   "source": [
    "## padding zeros to original image\n",
    "## to keep size of the output image and original image same\n",
    "def padding_zeros(image):\n",
    "    y = np.zeros([image.shape[0]+2, image.shape[1]+2], dtype = np.uint8)\n",
    "    for i in range(1, image.shape[0]+1):\n",
    "        for j in range(1, image.shape[1]+1):\n",
    "            y[i, j] = image[i-1, j-1]\n",
    "    return y"
   ]
  },
  {
   "cell_type": "code",
   "execution_count": 9,
   "metadata": {},
   "outputs": [
    {
     "name": "stdout",
     "output_type": "stream",
     "text": [
      "[[  0   0   0 ...   0   0   0]\n",
      " [  0 162 162 ... 155 128   0]\n",
      " [  0 162 162 ... 155 128   0]\n",
      " ...\n",
      " [  0  44  44 ... 105 108   0]\n",
      " [  0  44  44 ... 105 108   0]\n",
      " [  0   0   0 ...   0   0   0]]\n"
     ]
    }
   ],
   "source": [
    "new_image = padding_zeros(gray_image)\n",
    "print(new_image)"
   ]
  },
  {
   "cell_type": "code",
   "execution_count": 16,
   "metadata": {},
   "outputs": [
    {
     "name": "stdout",
     "output_type": "stream",
     "text": [
      "[[0.11111111 0.11111111 0.11111111]\n",
      " [0.11111111 0.11111111 0.11111111]\n",
      " [0.11111111 0.11111111 0.11111111]]\n"
     ]
    }
   ],
   "source": [
    "lpf = (1/9)*np.array([[1, 1, 1], [1, 1, 1], [1, 1, 1]], dtype = np.uint8)\n",
    "print(lpf)"
   ]
  },
  {
   "cell_type": "code",
   "execution_count": 17,
   "metadata": {},
   "outputs": [],
   "source": [
    "## Convolution function\n",
    "lpf_image = np.zeros([gray_image.shape[0], gray_image.shape[1]], dtype = np.uint8)\n",
    "list_1 = []\n",
    "for i in range(1, gray_image.shape[0]):\n",
    "    for j in range(1, gray_image.shape[1]):\n",
    "        #list_1.append(int(np.average((np.multiply(lpf, new_image[i-1:i+2, j-1:j+2]).flatten()))))\n",
    "        lpf_image[i, j] = int(np.average((np.multiply(lpf, new_image[i-1:i+2, j-1:j+2]).flatten())))"
   ]
  },
  {
   "cell_type": "code",
   "execution_count": 25,
   "metadata": {},
   "outputs": [],
   "source": [
    "cv2.imshow('low pass filtered image', lpf_image)\n",
    "cv2.waitKey(0)\n",
    "cv2.destroyAllWindows()"
   ]
  },
  {
   "cell_type": "code",
   "execution_count": 13,
   "metadata": {},
   "outputs": [
    {
     "name": "stdout",
     "output_type": "stream",
     "text": [
      "[[255 255 255]\n",
      " [255   8 255]\n",
      " [255 255 255]]\n"
     ]
    }
   ],
   "source": [
    "hpf = np.array([[-1, -1, -1], [-1, 8, -1], [-1, -1, -1]], dtype = np.uint8)\n",
    "print(hpf)"
   ]
  },
  {
   "cell_type": "code",
   "execution_count": 19,
   "metadata": {},
   "outputs": [],
   "source": [
    "hpf_image = np.zeros([gray_image.shape[0], gray_image.shape[1]], dtype = np.uint8)\n",
    "list_1 = []\n",
    "for i in range(1, gray_image.shape[0]):\n",
    "    for j in range(1, gray_image.shape[1]):\n",
    "        #list_1.append(int(np.average((np.multiply(lpf, new_image[i-1:i+2, j-1:j+2]).flatten()))))\n",
    "        hpf_image[i, j] = int(np.average((np.multiply(hpf, new_image[i-1:i+2, j-1:j+2]).flatten())))"
   ]
  },
  {
   "cell_type": "code",
   "execution_count": 22,
   "metadata": {},
   "outputs": [],
   "source": [
    "cv2.imshow('high pass filtered image', hpf_image)\n",
    "cv2.waitKey(0)\n",
    "cv2.destroyAllWindows()"
   ]
  },
  {
   "cell_type": "code",
   "execution_count": null,
   "metadata": {},
   "outputs": [],
   "source": [
    "cv2.imshow('low pass filtered image', lpf_image)\n",
    "cv2.imshow('high pass filtered image', hpf_image)\n",
    "cv2.waitKey(0)\n",
    "cv2.destroyAllWindows()"
   ]
  },
  {
   "cell_type": "code",
   "execution_count": null,
   "metadata": {},
   "outputs": [],
   "source": []
  }
 ],
 "metadata": {
  "kernelspec": {
   "display_name": "Python 3",
   "language": "python",
   "name": "python3"
  },
  "language_info": {
   "codemirror_mode": {
    "name": "ipython",
    "version": 3
   },
   "file_extension": ".py",
   "mimetype": "text/x-python",
   "name": "python",
   "nbconvert_exporter": "python",
   "pygments_lexer": "ipython3",
   "version": "3.6.10"
  }
 },
 "nbformat": 4,
 "nbformat_minor": 2
}
